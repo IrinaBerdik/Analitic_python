{
 "cells": [
  {
   "cell_type": "markdown",
   "id": "a09f355f",
   "metadata": {},
   "source": [
    "## Задача 1 "
   ]
  },
  {
   "cell_type": "markdown",
   "id": "252870c6",
   "metadata": {},
   "source": [
    "Оформляйте ноутбук, используя эти советы:\n",
    "Номер задачи - заголовок 2\n",
    "Номер подзадачи - заголовок 3\n",
    "Предоставленные наборы данных оформляйте, как код"
   ]
  },
  {
   "cell_type": "markdown",
   "id": "11673888",
   "metadata": {},
   "source": [
    "## Задача 2"
   ]
  },
  {
   "cell_type": "markdown",
   "id": "ff450d7a",
   "metadata": {},
   "source": [
    "На складе лежат разные фрукты в разном количестве.\n",
    "Нужно написать функцию, которая на вход принимает любое количество названий фруктов и их количество, а возвращает общее количество фруктов на складе"
   ]
  },
  {
   "cell_type": "code",
   "execution_count": 25,
   "id": "308f3c6e",
   "metadata": {},
   "outputs": [
    {
     "data": {
      "text/plain": [
       "37"
      ]
     },
     "execution_count": 25,
     "metadata": {},
     "output_type": "execute_result"
    }
   ],
   "source": [
    "def all_fruits(**fruits):\n",
    "    all_fr=0\n",
    "    for i in fruits.values():\n",
    "        all_fr+=i\n",
    "    return all_fr\n",
    "\n",
    "all_fruits(apple=5, orange=7, kiwi=25)"
   ]
  },
  {
   "cell_type": "markdown",
   "id": "f3edc61d",
   "metadata": {},
   "source": [
    "## Задача 3"
   ]
  },
  {
   "cell_type": "markdown",
   "id": "5f3a90e8",
   "metadata": {},
   "source": [
    "Дан список с затратами на рекламу. Но в данных есть ошибки, некоторые затраты имеют отрицательную величину. Удалите такие значения из списка и посчитайте суммарные затраты\n",
    "[100, 125, -90, 345, 655, -1, 0, 200]\n",
    "Используйте list comprehensions"
   ]
  },
  {
   "cell_type": "code",
   "execution_count": 33,
   "id": "b4081f97",
   "metadata": {},
   "outputs": [
    {
     "data": {
      "text/plain": [
       "1425"
      ]
     },
     "execution_count": 33,
     "metadata": {},
     "output_type": "execute_result"
    }
   ],
   "source": [
    "expenses=[100, 125, -90, 345, 655, -1, 0, 200]\n",
    "summa=sum(i for i in expenses if i >0)\n",
    "summa"
   ]
  },
  {
   "cell_type": "markdown",
   "id": "5bca46fd",
   "metadata": {},
   "source": [
    "## Задача 4"
   ]
  },
  {
   "cell_type": "markdown",
   "id": "e63daad8",
   "metadata": {},
   "source": [
    "Даны два списка.\n",
    "Дата покупки\n",
    "['2021-09-14', '2021-12-15', '2021-09-08', '2021-12-05', '2021-10-09', '2021-09-30', '2021-12-22', '2021-11-29', '2021-12-24', '2021-11-26', '2021-10-27', '2021-12-18', '2021-11-09', '2021-11-23', '2021-09-27', '2021-10-02', '2021-12-27', '2021-09-20', '2021-12-13', '2021-11-01', '2021-11-09', '2021-12-06', '2021-12-08', '2021-10-09', '2021-10-31', '2021-09-30', '2021-11-09', '2021-12-13', '2021-10-26', '2021-12-09']\n",
    "Суммы покупок по датам\n",
    "[1270, 8413, 9028, 3703, 5739, 4095, 295, 4944, 5723, 3701, 4471, 651, 7037, 4274, 6275, 4988, 6930, 2971, 6592, 2004, 2822, 519, 3406, 2732, 5015, 2008, 316, 6333, 5700, 2887]"
   ]
  },
  {
   "cell_type": "markdown",
   "id": "98016038",
   "metadata": {},
   "source": [
    "### 4.1 Найдите, какая выручка у компании в ноябре\n",
    "Используйте list comprehensions"
   ]
  },
  {
   "cell_type": "code",
   "execution_count": 39,
   "id": "ba40f379",
   "metadata": {},
   "outputs": [],
   "source": [
    "date = ['2021-09-14', '2021-12-15', '2021-09-08', '2021-12-05', '2021-10-09', '2021-09-30','2021-12-22', '2021-11-29', '2021-12-24', '2021-11-26', '2021-10-27', '2021-12-18', '2021-11-09', '2021-11-23', '2021-09-27', '2021-10-02', '2021-12-27', '2021-09-20', '2021-12-13', '2021-11-01', '2021-11-09', '2021-12-06', '2021-12-08', '2021-10-09', '2021-10-31', '2021-09-30', '2021-11-09', '2021-12-13', '2021-10-26', '2021-12-09']"
   ]
  },
  {
   "cell_type": "code",
   "execution_count": 40,
   "id": "92396abd",
   "metadata": {},
   "outputs": [],
   "source": [
    "amounts = [1270, 8413, 9028, 3703, 5739, 4095, 295, 4944, 5723, 3701, 4471, 651, 7037, 4274, 6275, 4988, 6930, 2971, 6592, 2004, 2822, 519, 3406, 2732, 5015, 2008, 316, 6333, 5700, 2887]"
   ]
  },
  {
   "cell_type": "code",
   "execution_count": 42,
   "id": "83177140",
   "metadata": {},
   "outputs": [
    {
     "data": {
      "text/plain": [
       "25098"
      ]
     },
     "execution_count": 42,
     "metadata": {},
     "output_type": "execute_result"
    }
   ],
   "source": [
    "sum([amounts[i] for i in range(len(date)) if date[i].split('-')[1]=='11'])"
   ]
  },
  {
   "cell_type": "markdown",
   "id": "2f0f2eb5",
   "metadata": {},
   "source": [
    "### 4.2 Найдите выручку компании в зависимости от месяца\n",
    "Для этого напишите функцию, которая на вход принимает список с датами и список с выручкой, а на выходе словарь, где ключи - это месяцы, а значения - это выручка.\n",
    "Используйте аннотирование типов."
   ]
  },
  {
   "cell_type": "code",
   "execution_count": 44,
   "id": "b7e04319",
   "metadata": {},
   "outputs": [
    {
     "data": {
      "text/plain": [
       "{'09': 25647, '12': 45452, '10': 28645, '11': 25098}"
      ]
     },
     "execution_count": 44,
     "metadata": {},
     "output_type": "execute_result"
    }
   ],
   "source": [
    "def calc_in_month(date: list, amounts: list) -> dict:\n",
    "  calc = {}\n",
    "  for i in range(len(date)):\n",
    "        month = date[i].split('-')[1]\n",
    "        if month in calc.keys():\n",
    "            calc[month]+=amounts[i]\n",
    "        else:\n",
    "            calc[month] = amounts[i]\n",
    "  return calc\n",
    "calc_in_month(date, amounts)"
   ]
  },
  {
   "cell_type": "code",
   "execution_count": null,
   "id": "5f788629",
   "metadata": {},
   "outputs": [],
   "source": []
  },
  {
   "cell_type": "code",
   "execution_count": null,
   "id": "fba6a694",
   "metadata": {},
   "outputs": [],
   "source": []
  },
  {
   "cell_type": "code",
   "execution_count": null,
   "id": "08a61c18",
   "metadata": {},
   "outputs": [],
   "source": []
  }
 ],
 "metadata": {
  "kernelspec": {
   "display_name": "Python 3 (ipykernel)",
   "language": "python",
   "name": "python3"
  },
  "language_info": {
   "codemirror_mode": {
    "name": "ipython",
    "version": 3
   },
   "file_extension": ".py",
   "mimetype": "text/x-python",
   "name": "python",
   "nbconvert_exporter": "python",
   "pygments_lexer": "ipython3",
   "version": "3.9.13"
  }
 },
 "nbformat": 4,
 "nbformat_minor": 5
}
